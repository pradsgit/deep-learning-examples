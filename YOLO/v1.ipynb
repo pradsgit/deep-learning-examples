{
 "cells": [
  {
   "cell_type": "code",
   "execution_count": null,
   "metadata": {},
   "outputs": [],
   "source": [
    "# implemenatation of YOLO from this paper https://arxiv.org/pdf/1506.02640"
   ]
  }
 ],
 "metadata": {
  "language_info": {
   "name": "python"
  }
 },
 "nbformat": 4,
 "nbformat_minor": 2
}
